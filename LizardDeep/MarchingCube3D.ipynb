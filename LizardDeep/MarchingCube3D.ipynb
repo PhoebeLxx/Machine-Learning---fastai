{
 "cells": [
  {
   "cell_type": "code",
   "execution_count": 12,
   "metadata": {},
   "outputs": [],
   "source": [
    "import itertools\n",
    "import pprint\n",
    "import numpy as np\n",
    "import random as rm"
   ]
  },
  {
   "cell_type": "code",
   "execution_count": 13,
   "metadata": {},
   "outputs": [],
   "source": [
    "x_dim = 6\n",
    "y_dim = 6 \n",
    "z_dim = 6"
   ]
  },
  {
   "cell_type": "code",
   "execution_count": 16,
   "metadata": {},
   "outputs": [],
   "source": [
    "distance = [[[rm.randint(1, 10) \n",
    "              for k in range(x_dim)]\n",
    "             for j in range(y_dim)]\n",
    "            for i in range(z_dim)]"
   ]
  },
  {
   "cell_type": "code",
   "execution_count": 17,
   "metadata": {},
   "outputs": [
    {
     "data": {
      "text/plain": [
       "[[[1, 5, 1, 6, 6, 3],\n",
       "  [5, 2, 5, 4, 5, 3],\n",
       "  [1, 8, 2, 3, 1, 7],\n",
       "  [7, 5, 5, 10, 10, 3],\n",
       "  [7, 3, 7, 2, 3, 1],\n",
       "  [10, 3, 2, 7, 9, 1]],\n",
       " [[8, 10, 6, 6, 10, 1],\n",
       "  [8, 8, 9, 1, 6, 1],\n",
       "  [1, 1, 9, 10, 5, 10],\n",
       "  [5, 3, 1, 8, 10, 9],\n",
       "  [2, 10, 10, 5, 5, 2],\n",
       "  [4, 7, 8, 9, 10, 6]],\n",
       " [[9, 2, 4, 4, 10, 1],\n",
       "  [1, 9, 9, 4, 5, 4],\n",
       "  [9, 1, 9, 2, 6, 2],\n",
       "  [7, 5, 7, 3, 7, 2],\n",
       "  [4, 3, 4, 2, 9, 4],\n",
       "  [1, 4, 3, 6, 7, 8]],\n",
       " [[6, 4, 7, 9, 1, 4],\n",
       "  [6, 1, 3, 4, 9, 4],\n",
       "  [4, 7, 6, 7, 5, 3],\n",
       "  [5, 3, 7, 10, 4, 4],\n",
       "  [6, 3, 10, 6, 10, 4],\n",
       "  [3, 4, 7, 7, 6, 7]],\n",
       " [[9, 2, 10, 8, 2, 5],\n",
       "  [5, 1, 4, 1, 5, 9],\n",
       "  [9, 2, 10, 7, 5, 9],\n",
       "  [1, 7, 4, 7, 6, 5],\n",
       "  [3, 5, 6, 9, 6, 8],\n",
       "  [2, 1, 8, 6, 2, 10]],\n",
       " [[10, 9, 1, 1, 4, 4],\n",
       "  [4, 5, 3, 1, 4, 8],\n",
       "  [4, 5, 9, 10, 5, 4],\n",
       "  [2, 5, 4, 4, 5, 2],\n",
       "  [10, 8, 1, 5, 1, 5],\n",
       "  [10, 8, 6, 6, 8, 6]]]"
      ]
     },
     "execution_count": 17,
     "metadata": {},
     "output_type": "execute_result"
    }
   ],
   "source": [
    "distance"
   ]
  },
  {
   "cell_type": "code",
   "execution_count": null,
   "metadata": {},
   "outputs": [],
   "source": []
  }
 ],
 "metadata": {
  "kernelspec": {
   "display_name": "Python 3",
   "language": "python",
   "name": "python3"
  },
  "language_info": {
   "codemirror_mode": {
    "name": "ipython",
    "version": 3
   },
   "file_extension": ".py",
   "mimetype": "text/x-python",
   "name": "python",
   "nbconvert_exporter": "python",
   "pygments_lexer": "ipython3",
   "version": "3.7.3"
  }
 },
 "nbformat": 4,
 "nbformat_minor": 2
}
