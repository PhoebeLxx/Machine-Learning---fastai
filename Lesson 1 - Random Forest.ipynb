{
 "cells": [
  {
   "cell_type": "markdown",
   "metadata": {},
   "source": [
    "### Random Forest Model\n",
    "<br>\n",
    "First version completed on July 5 by Li Xiuxian.\n",
    "<br><br>"
   ]
  },
  {
   "cell_type": "code",
   "execution_count": 1,
   "metadata": {},
   "outputs": [],
   "source": [
    "# modify those modules, jupyter notebook will automatically update the code\n",
    "%load_ext autoreload\n",
    "%autoreload 2\n",
    "\n",
    "%matplotlib inline"
   ]
  },
  {
   "cell_type": "code",
   "execution_count": 2,
   "metadata": {},
   "outputs": [],
   "source": [
    "from fastai.imports import *\n",
    "from fastai.tabular import *\n",
    "\n",
    "from pandas_summary import DataFrameSummary\n",
    "from sklearn.ensemble import RandomForestRegressor, RandomForestClassifier\n",
    "from sklearn.tree import export_graphviz\n",
    "import graphviz\n",
    "from sklearn.ensemble import forest\n",
    "from IPython.display import display\n",
    "import pandas as pd\n",
    "from pandas.api.types import is_string_dtype, is_numeric_dtype, is_categorical_dtype\n",
    "\n",
    "from sklearn import metrics"
   ]
  },
  {
   "cell_type": "code",
   "execution_count": 3,
   "metadata": {},
   "outputs": [],
   "source": [
    "PATH = \"data/bulldozers/\""
   ]
  },
  {
   "cell_type": "code",
   "execution_count": 4,
   "metadata": {},
   "outputs": [],
   "source": [
    "df_raw = pd.read_csv(f'{PATH}Train.csv', low_memory=False, parse_dates=['saledate'])"
   ]
  },
  {
   "cell_type": "code",
   "execution_count": 5,
   "metadata": {},
   "outputs": [],
   "source": [
    "def display_all(df):\n",
    "    with pd.option_context(\"display.max_rows\", 1000):\n",
    "        with pd.option_context(\"display.max_columns\", 1000):\n",
    "            display(df)"
   ]
  },
  {
   "cell_type": "code",
   "execution_count": 6,
   "metadata": {},
   "outputs": [],
   "source": [
    "# display_all(df_raw.tail().transpose())"
   ]
  },
  {
   "cell_type": "code",
   "execution_count": 7,
   "metadata": {},
   "outputs": [],
   "source": [
    "df_raw.SalePrice = np.log(df_raw.SalePrice)"
   ]
  },
  {
   "cell_type": "markdown",
   "metadata": {},
   "source": [
    "Predicting continuous variables -> method: regression; tool: regressor\n",
    "\n",
    "Predicting discrete / categorical variables -> method: classification; tool: classifier\n",
    "\n",
    "Regression is a Machine Learning model trying to predict continuous outcome.\n",
    "\n",
    "Streps using Machine Leaning models in sklean:\n",
    "    1. Create an instance for the Machine Learning model\n",
    "    2. Call fit() of the instance and pass in the independent variable and dependent variables\n",
    "    \n",
    "\n",
    "This dataset contains a mix of **continuous** and **categorical** variables.\n",
    "\n",
    "The following method extracts particular date fields from a complete datetime for the purpose of constructing categoricals. You should always consider this feature extraction step when working with date-time. Without expanding your date-time into these fields, you cannot capture any trend/cyclical behavior as a function of time at any of these granularities."
   ]
  },
  {
   "cell_type": "code",
   "execution_count": 8,
   "metadata": {},
   "outputs": [],
   "source": [
    "fld = df_raw.saledate"
   ]
  },
  {
   "cell_type": "code",
   "execution_count": 9,
   "metadata": {},
   "outputs": [
    {
     "data": {
      "text/plain": [
       "0    2006\n",
       "1    2004\n",
       "2    2004\n",
       "3    2011\n",
       "4    2009\n",
       "Name: saleYear, dtype: int64"
      ]
     },
     "execution_count": 9,
     "metadata": {},
     "output_type": "execute_result"
    }
   ],
   "source": [
    "add_datepart(df_raw, 'saledate')\n",
    "df_raw.saleYear.head()"
   ]
  },
  {
   "cell_type": "markdown",
   "metadata": {},
   "source": [
    "The categorical variables are currently stored as strings, which is inefficient, and does not provide hte numeric coding required for a random forest. Therefore, we call *train_cats* to convert strings to pandas categories."
   ]
  },
  {
   "cell_type": "code",
   "execution_count": 10,
   "metadata": {},
   "outputs": [],
   "source": [
    "# Copied from the old version of fastai (fastai.structured)\n",
    "def train_cats(df):\n",
    "    \"\"\"Change any columns of strings in a panda's dataframe to a column of\n",
    "    categorical values. This applies the changes inplace.\n",
    "    \"\"\"\n",
    "    for n,c in df.items():\n",
    "        if is_string_dtype(c): df[n] = c.astype('category').cat.as_ordered()"
   ]
  },
  {
   "cell_type": "code",
   "execution_count": 11,
   "metadata": {},
   "outputs": [],
   "source": [
    "# Turn string objects in the dataframe to categorical values \n",
    "# In this particular case, only UsageBand contains nonnumerical values \n",
    "# NaN / null values will be automatically labeled by pandas by -1\n",
    "train_cats(df_raw)\n",
    "df_raw.UsageBand.cat.set_categories(['High', 'Medium','Low'], ordered=True, inplace=True)\n",
    "\n",
    "# display_all(df_raw.isnull().sum().sort_index() / len(df_raw))"
   ]
  },
  {
   "cell_type": "markdown",
   "metadata": {},
   "source": [
    "Data preprocessing almost done\n",
    "\n",
    "--- Format Conversion ---\n",
    "1. Strings are converted to numbers.\n",
    "    Decision trees will see 'High', 'Medium' and 'Low' as 0. 1 and 2. \n",
    "    String -> Categorical Values (can be represented using numeric numbers)\n",
    "2. Dates are converted to a bunch of numeric columns.\n",
    "3. verything else is already numbers.\n",
    "\n",
    "--- Deal with null values ---"
   ]
  },
  {
   "cell_type": "code",
   "execution_count": 12,
   "metadata": {},
   "outputs": [],
   "source": [
    "# Save to disk in exactly the same format that is actually in RAM\n",
    "# Far faster in saving and reading data (good for cross-computer communication)\n",
    "os.makedirs('tmp', exist_ok=True)\n",
    "df_raw.to_feather('tmp/raw')\n",
    "\n",
    "# Read the data back\n",
    "df_raw = pd.read_feather('tmp/raw')"
   ]
  },
  {
   "cell_type": "code",
   "execution_count": 13,
   "metadata": {},
   "outputs": [],
   "source": [
    "# Copied from the old version of fastai (fastai.structured) \n",
    "# https://github.com/fastai/fastai/blob/master/old/fastai/structured.py\n",
    "def numericalize(df, col, name, max_n_cat):\n",
    "    ''' For values not numeric, convert it to corresponding categorical values + 1.abc\n",
    "    e.g. NaN values are not -1 but 0.'''\n",
    "    \n",
    "    if not is_numeric_dtype(col) and ( max_n_cat is None or len(col.cat.categories)>max_n_cat):\n",
    "        df[name] = pd.Categorical(col).codes+1\n",
    "    \n",
    "    \n",
    "def fix_missing(df, col, name, na_dict):\n",
    "    if is_numeric_dtype(col):\n",
    "        if pd.isnull(col).sum() or (name in na_dict):\n",
    "            df[name+'_na'] = pd.isnull(col)\n",
    "            filler = na_dict[name] if name in na_dict else col.median()\n",
    "            df[name] = col.fillna(filler)\n",
    "            na_dict[name] = filler\n",
    "    return na_dict\n",
    "\n",
    "\n",
    "def proc_df(df, y_fld=None, skip_flds=None, ignore_flds=None, do_scale=False, na_dict=None,\n",
    "            preproc_fn=None, max_n_cat=None, subset=None, mapper=None):\n",
    "    if not ignore_flds: ignore_flds=[]\n",
    "    if not skip_flds: skip_flds=[]\n",
    "    if subset: df = get_sample(df,subset)\n",
    "    else: df = df.copy()\n",
    "    ignored_flds = df.loc[:, ignore_flds]\n",
    "    df.drop(ignore_flds, axis=1, inplace=True)\n",
    "    if preproc_fn: preproc_fn(df)\n",
    "    if y_fld is None: y = None\n",
    "    else:\n",
    "        if not is_numeric_dtype(df[y_fld]): df[y_fld] = pd.Categorical(df[y_fld]).codes\n",
    "        y = df[y_fld].values\n",
    "        skip_flds += [y_fld]\n",
    "    df.drop(skip_flds, axis=1, inplace=True)\n",
    "\n",
    "    if na_dict is None: na_dict = {}\n",
    "    else: na_dict = na_dict.copy()\n",
    "    na_dict_initial = na_dict.copy()\n",
    "    for n,c in df.items(): na_dict = fix_missing(df, c, n, na_dict)\n",
    "    if len(na_dict_initial.keys()) > 0:\n",
    "        df.drop([a + '_na' for a in list(set(na_dict.keys()) - set(na_dict_initial.keys()))], axis=1, inplace=True)\n",
    "    if do_scale: mapper = scale_vars(df, mapper)\n",
    "    for n,c in df.items(): numericalize(df, c, n, max_n_cat)\n",
    "    df = pd.get_dummies(df, dummy_na=True)\n",
    "    df = pd.concat([ignored_flds, df], axis=1)\n",
    "    res = [df, y, na_dict]\n",
    "    if do_scale: res = res + [mapper]\n",
    "    return res\n",
    "\n",
    "def set_rf_samples(n):\n",
    "    forest._generate_sample_indices = (lambda rs, n_samples:\n",
    "    forest.check_random_state(rs).randint(0, n_samples, n))"
   ]
  },
  {
   "cell_type": "markdown",
   "metadata": {},
   "source": [
    "Deal with missing values\n",
    "1. Use the categorical values + 1\n",
    "2. Replace the missing values using the median\n",
    "3. Add an additional column telling which values are replaced\n",
    "4. Remove the independent variable (y)"
   ]
  },
  {
   "cell_type": "code",
   "execution_count": 14,
   "metadata": {},
   "outputs": [],
   "source": [
    "# 'SalePrice' is denoted as the dependent variable (Y -> prediction results & labels)\n",
    "#  proc_df() will extract the dependent variable column and fix missing\n",
    " \n",
    "df, y, nas =  proc_df(df_raw, 'SalePrice')"
   ]
  },
  {
   "cell_type": "code",
   "execution_count": 15,
   "metadata": {},
   "outputs": [],
   "source": [
    "# To avoid overfitting, we usually need a validation set\n",
    "\n",
    "def split_vals(a, n): return a[:n].copy(), a[n:].copy()\n",
    "\n",
    "\n",
    "n_valid = 12000 \n",
    "n_trn =  len(df) - n_valid\n",
    "raw_train, raw_valid = split_vals(df_raw, n_trn)\n",
    "\n",
    "X_train, X_valid = split_vals(df, n_trn)\n",
    "y_train, y_valid = split_vals(y, n_trn)"
   ]
  },
  {
   "cell_type": "code",
   "execution_count": 16,
   "metadata": {},
   "outputs": [],
   "source": [
    "''' Rather than limit the total amount of data that our model can access,\n",
    "        limit it to a different random subset per tree.\n",
    "'''\n",
    "set_rf_samples(20000)"
   ]
  },
  {
   "cell_type": "code",
   "execution_count": 17,
   "metadata": {},
   "outputs": [],
   "source": [
    "# Calcualte the root-mean-square deviation (how close is the prediction result to the acutal result)\n",
    "def rmse(x, y): \n",
    "    return math.sqrt(((x - y)**2).mean())\n",
    "\n",
    "\n",
    "def print_score(m):\n",
    "    res = [rmse(m.predict(X_train), y_train), rmse(m.predict(X_valid), y_valid),\n",
    "          m.score(X_train, y_train), m.score(X_valid, y_valid)]\n",
    "    if hasattr(m, 'oob_score_'): res.append(m.oob_score_)\n",
    "    print(res)"
   ]
  },
  {
   "cell_type": "code",
   "execution_count": 18,
   "metadata": {},
   "outputs": [
    {
     "name": "stdout",
     "output_type": "stream",
     "text": [
      "CPU times: user 2 µs, sys: 0 ns, total: 2 µs\n",
      "Wall time: 3.58 µs\n"
     ]
    },
    {
     "name": "stderr",
     "output_type": "stream",
     "text": [
      "/opt/anaconda/lib/python3.7/site-packages/sklearn/ensemble/forest.py:246: FutureWarning: The default value of n_estimators will change from 10 in version 0.20 to 100 in 0.22.\n",
      "  \"10 in version 0.20 to 100 in 0.22.\", FutureWarning)\n"
     ]
    },
    {
     "name": "stdout",
     "output_type": "stream",
     "text": [
      "[0.24130437340199884, 0.2754773706969302, 0.8783071079334307, 0.86447487005152]\n"
     ]
    }
   ],
   "source": [
    "# Random forests are trivially parallelizable\n",
    "#  It will split the data across different CPUs (linearly scale right)\n",
    "# n_jobs=-1 tells the random forest to separate the work for each CPU (separate processes)\n",
    "\n",
    "m = RandomForestRegressor(n_jobs=-1)\n",
    "%time\n",
    "m.fit(X_train, y_train)\n",
    "print_score(m)\n",
    "\n",
    "# The score of training set is 0.98, while the result of validaiton set is only 0.88\n",
    "# Overfitting occurs "
   ]
  },
  {
   "cell_type": "markdown",
   "metadata": {},
   "source": [
    "#####  The Random Forest Algorithm\n",
    "Have a closer look at the Random Forest algorithm.\n",
    "\n",
    "In sklearn, construct a self-design random forest using parameters."
   ]
  },
  {
   "cell_type": "code",
   "execution_count": 19,
   "metadata": {},
   "outputs": [
    {
     "name": "stdout",
     "output_type": "stream",
     "text": [
      "[0.5371269683343529, 0.5674541015387207, 0.3970396664995464, 0.42494490873720825]\n"
     ]
    }
   ],
   "source": [
    "\"\"\" Random forest consists of several decision trees.\n",
    "In sklearn, decision trees are estimators. \n",
    "Denote the number of decision trees using parameter n_estimator.\n",
    "\n",
    "max_depth parameter is used to specify the scale/depth of decision trees.\n",
    "max_depth = 3 is a small decision tree with three layers.\n",
    "\n",
    "Parameter bootstrap is used to control the randomization of the random forest.\n",
    "\"\"\"\n",
    "\n",
    "m = RandomForestRegressor(n_estimators=1, max_depth=3, bootstrap=False, n_jobs=-1)\n",
    "m.fit(X_train, y_train)\n",
    "print_score(m)"
   ]
  },
  {
   "cell_type": "code",
   "execution_count": 20,
   "metadata": {},
   "outputs": [
    {
     "data": {
      "image/svg+xml": [
       "<?xml version=\"1.0\" encoding=\"UTF-8\" standalone=\"no\"?>\n",
       "<!DOCTYPE svg PUBLIC \"-//W3C//DTD SVG 1.1//EN\"\n",
       " \"http://www.w3.org/Graphics/SVG/1.1/DTD/svg11.dtd\">\n",
       "<!-- Generated by graphviz version 2.40.1 (20161225.0304)\n",
       " -->\n",
       "<!-- Title: Tree Pages: 1 -->\n",
       "<svg width=\"720pt\" height=\"434pt\"\n",
       " viewBox=\"0.00 0.00 720.00 434.49\" xmlns=\"http://www.w3.org/2000/svg\" xmlns:xlink=\"http://www.w3.org/1999/xlink\">\n",
       "<g id=\"graph0\" class=\"graph\" transform=\"scale(.7787 .7787) rotate(0) translate(4 554)\">\n",
       "<title>Tree</title>\n",
       "<polygon fill=\"#ffffff\" stroke=\"transparent\" points=\"-4,4 -4,-554 920.6667,-554 920.6667,4 -4,4\"/>\n",
       "<!-- 0 -->\n",
       "<g id=\"node1\" class=\"node\">\n",
       "<title>0</title>\n",
       "<polygon fill=\"#e58139\" fill-opacity=\"0.698039\" stroke=\"#000000\" points=\"167.6667,-336.5 27.6667,-336.5 27.6667,-268.5 167.6667,-268.5 167.6667,-336.5\"/>\n",
       "<text text-anchor=\"start\" x=\"35.6667\" y=\"-321.3\" font-family=\"Times,serif\" font-size=\"14.00\" fill=\"#000000\">Coupler_System ≤ 0.5</text>\n",
       "<text text-anchor=\"start\" x=\"62.6667\" y=\"-306.3\" font-family=\"Times,serif\" font-size=\"14.00\" fill=\"#000000\">mse = 0.478</text>\n",
       "<text text-anchor=\"start\" x=\"47.1667\" y=\"-291.3\" font-family=\"Times,serif\" font-size=\"14.00\" fill=\"#000000\">samples = 389125</text>\n",
       "<text text-anchor=\"start\" x=\"56.1667\" y=\"-276.3\" font-family=\"Times,serif\" font-size=\"14.00\" fill=\"#000000\">value = 10.106</text>\n",
       "</g>\n",
       "<!-- 1 -->\n",
       "<g id=\"node2\" class=\"node\">\n",
       "<title>1</title>\n",
       "<polygon fill=\"#e58139\" fill-opacity=\"0.760784\" stroke=\"#000000\" points=\"399.6667,-372.5 271.6667,-372.5 271.6667,-304.5 399.6667,-304.5 399.6667,-372.5\"/>\n",
       "<text text-anchor=\"start\" x=\"279.6667\" y=\"-357.3\" font-family=\"Times,serif\" font-size=\"14.00\" fill=\"#000000\">YearMade ≤ 1991.5</text>\n",
       "<text text-anchor=\"start\" x=\"300.6667\" y=\"-342.3\" font-family=\"Times,serif\" font-size=\"14.00\" fill=\"#000000\">mse = 0.415</text>\n",
       "<text text-anchor=\"start\" x=\"285.1667\" y=\"-327.3\" font-family=\"Times,serif\" font-size=\"14.00\" fill=\"#000000\">samples = 348393</text>\n",
       "<text text-anchor=\"start\" x=\"294.1667\" y=\"-312.3\" font-family=\"Times,serif\" font-size=\"14.00\" fill=\"#000000\">value = 10.211</text>\n",
       "</g>\n",
       "<!-- 0&#45;&gt;1 -->\n",
       "<g id=\"edge1\" class=\"edge\">\n",
       "<title>0&#45;&gt;1</title>\n",
       "<path fill=\"none\" stroke=\"#000000\" d=\"M167.7873,-313.1065C197.23,-317.56 231.5046,-322.7444 261.3795,-327.2633\"/>\n",
       "<polygon fill=\"#000000\" stroke=\"#000000\" points=\"260.918,-330.7332 271.3291,-328.7683 261.965,-323.8119 260.918,-330.7332\"/>\n",
       "<text text-anchor=\"middle\" x=\"251.2064\" y=\"-339.9032\" font-family=\"Times,serif\" font-size=\"14.00\" fill=\"#000000\">True</text>\n",
       "</g>\n",
       "<!-- 8 -->\n",
       "<g id=\"node9\" class=\"node\">\n",
       "<title>8</title>\n",
       "<polygon fill=\"#e58139\" fill-opacity=\"0.137255\" stroke=\"#000000\" points=\"399.6667,-245.5 271.6667,-245.5 271.6667,-177.5 399.6667,-177.5 399.6667,-245.5\"/>\n",
       "<text text-anchor=\"start\" x=\"279.6667\" y=\"-230.3\" font-family=\"Times,serif\" font-size=\"14.00\" fill=\"#000000\">YearMade ≤ 1998.5</text>\n",
       "<text text-anchor=\"start\" x=\"300.6667\" y=\"-215.3\" font-family=\"Times,serif\" font-size=\"14.00\" fill=\"#000000\">mse = 0.114</text>\n",
       "<text text-anchor=\"start\" x=\"288.6667\" y=\"-200.3\" font-family=\"Times,serif\" font-size=\"14.00\" fill=\"#000000\">samples = 40732</text>\n",
       "<text text-anchor=\"start\" x=\"297.6667\" y=\"-185.3\" font-family=\"Times,serif\" font-size=\"14.00\" fill=\"#000000\">value = 9.204</text>\n",
       "</g>\n",
       "<!-- 0&#45;&gt;8 -->\n",
       "<g id=\"edge8\" class=\"edge\">\n",
       "<title>0&#45;&gt;8</title>\n",
       "<path fill=\"none\" stroke=\"#000000\" d=\"M167.7873,-275.6892C197.358,-264.3827 231.8027,-251.2127 261.769,-239.755\"/>\n",
       "<polygon fill=\"#000000\" stroke=\"#000000\" points=\"263.2385,-242.9403 271.3291,-236.0997 260.7385,-236.4019 263.2385,-242.9403\"/>\n",
       "<text text-anchor=\"middle\" x=\"248.5038\" y=\"-222.2012\" font-family=\"Times,serif\" font-size=\"14.00\" fill=\"#000000\">False</text>\n",
       "</g>\n",
       "<!-- 2 -->\n",
       "<g id=\"node3\" class=\"node\">\n",
       "<title>2</title>\n",
       "<polygon fill=\"#e58139\" fill-opacity=\"0.611765\" stroke=\"#000000\" points=\"648.6667,-486.5 528.6667,-486.5 528.6667,-418.5 648.6667,-418.5 648.6667,-486.5\"/>\n",
       "<text text-anchor=\"start\" x=\"536.6667\" y=\"-471.3\" font-family=\"Times,serif\" font-size=\"14.00\" fill=\"#000000\">ModelID ≤ 4418.5</text>\n",
       "<text text-anchor=\"start\" x=\"553.6667\" y=\"-456.3\" font-family=\"Times,serif\" font-size=\"14.00\" fill=\"#000000\">mse = 0.373</text>\n",
       "<text text-anchor=\"start\" x=\"538.1667\" y=\"-441.3\" font-family=\"Times,serif\" font-size=\"14.00\" fill=\"#000000\">samples = 153147</text>\n",
       "<text text-anchor=\"start\" x=\"550.6667\" y=\"-426.3\" font-family=\"Times,serif\" font-size=\"14.00\" fill=\"#000000\">value = 9.969</text>\n",
       "</g>\n",
       "<!-- 1&#45;&gt;2 -->\n",
       "<g id=\"edge2\" class=\"edge\">\n",
       "<title>1&#45;&gt;2</title>\n",
       "<path fill=\"none\" stroke=\"#000000\" d=\"M399.8363,-367.4144C436.2748,-383.8333 481.9121,-404.3971 519.1925,-421.1954\"/>\n",
       "<polygon fill=\"#000000\" stroke=\"#000000\" points=\"517.9248,-424.4631 528.4799,-425.3803 520.8005,-418.081 517.9248,-424.4631\"/>\n",
       "</g>\n",
       "<!-- 5 -->\n",
       "<g id=\"node6\" class=\"node\">\n",
       "<title>5</title>\n",
       "<polygon fill=\"#e58139\" fill-opacity=\"0.878431\" stroke=\"#000000\" points=\"670.1667,-372.5 507.1667,-372.5 507.1667,-304.5 670.1667,-304.5 670.1667,-372.5\"/>\n",
       "<text text-anchor=\"start\" x=\"515.1667\" y=\"-357.3\" font-family=\"Times,serif\" font-size=\"14.00\" fill=\"#000000\">fiProductClassDesc ≤ 13.5</text>\n",
       "<text text-anchor=\"start\" x=\"553.6667\" y=\"-342.3\" font-family=\"Times,serif\" font-size=\"14.00\" fill=\"#000000\">mse = 0.366</text>\n",
       "<text text-anchor=\"start\" x=\"538.1667\" y=\"-327.3\" font-family=\"Times,serif\" font-size=\"14.00\" fill=\"#000000\">samples = 195246</text>\n",
       "<text text-anchor=\"start\" x=\"547.1667\" y=\"-312.3\" font-family=\"Times,serif\" font-size=\"14.00\" fill=\"#000000\">value = 10.401</text>\n",
       "</g>\n",
       "<!-- 1&#45;&gt;5 -->\n",
       "<g id=\"edge5\" class=\"edge\">\n",
       "<title>1&#45;&gt;5</title>\n",
       "<path fill=\"none\" stroke=\"#000000\" d=\"M399.8363,-338.5C429.1621,-338.5 464.446,-338.5 496.5367,-338.5\"/>\n",
       "<polygon fill=\"#000000\" stroke=\"#000000\" points=\"496.832,-342.0001 506.8319,-338.5 496.8319,-335.0001 496.832,-342.0001\"/>\n",
       "</g>\n",
       "<!-- 3 -->\n",
       "<g id=\"node4\" class=\"node\">\n",
       "<title>3</title>\n",
       "<polygon fill=\"#e58139\" fill-opacity=\"0.752941\" stroke=\"#000000\" points=\"889.6667,-550 779.6667,-550 779.6667,-497 889.6667,-497 889.6667,-550\"/>\n",
       "<text text-anchor=\"start\" x=\"799.6667\" y=\"-534.8\" font-family=\"Times,serif\" font-size=\"14.00\" fill=\"#000000\">mse = 0.388</text>\n",
       "<text text-anchor=\"start\" x=\"787.6667\" y=\"-519.8\" font-family=\"Times,serif\" font-size=\"14.00\" fill=\"#000000\">samples = 78592</text>\n",
       "<text text-anchor=\"start\" x=\"793.1667\" y=\"-504.8\" font-family=\"Times,serif\" font-size=\"14.00\" fill=\"#000000\">value = 10.195</text>\n",
       "</g>\n",
       "<!-- 2&#45;&gt;3 -->\n",
       "<g id=\"edge3\" class=\"edge\">\n",
       "<title>2&#45;&gt;3</title>\n",
       "<path fill=\"none\" stroke=\"#000000\" d=\"M648.845,-469.8686C685.4057,-480.4206 732.0889,-493.8942 769.5173,-504.6967\"/>\n",
       "<polygon fill=\"#000000\" stroke=\"#000000\" points=\"768.7373,-508.1144 779.3158,-507.5247 770.6785,-501.3889 768.7373,-508.1144\"/>\n",
       "</g>\n",
       "<!-- 4 -->\n",
       "<g id=\"node5\" class=\"node\">\n",
       "<title>4</title>\n",
       "<polygon fill=\"#e58139\" fill-opacity=\"0.462745\" stroke=\"#000000\" points=\"889.6667,-479 779.6667,-479 779.6667,-426 889.6667,-426 889.6667,-479\"/>\n",
       "<text text-anchor=\"start\" x=\"799.6667\" y=\"-463.8\" font-family=\"Times,serif\" font-size=\"14.00\" fill=\"#000000\">mse = 0.248</text>\n",
       "<text text-anchor=\"start\" x=\"787.6667\" y=\"-448.8\" font-family=\"Times,serif\" font-size=\"14.00\" fill=\"#000000\">samples = 74555</text>\n",
       "<text text-anchor=\"start\" x=\"796.6667\" y=\"-433.8\" font-family=\"Times,serif\" font-size=\"14.00\" fill=\"#000000\">value = 9.731</text>\n",
       "</g>\n",
       "<!-- 2&#45;&gt;4 -->\n",
       "<g id=\"edge4\" class=\"edge\">\n",
       "<title>2&#45;&gt;4</title>\n",
       "<path fill=\"none\" stroke=\"#000000\" d=\"M648.845,-452.5C685.2501,-452.5 731.6917,-452.5 769.039,-452.5\"/>\n",
       "<polygon fill=\"#000000\" stroke=\"#000000\" points=\"769.3158,-456.0001 779.3158,-452.5 769.3157,-449.0001 769.3158,-456.0001\"/>\n",
       "</g>\n",
       "<!-- 6 -->\n",
       "<g id=\"node7\" class=\"node\">\n",
       "<title>6</title>\n",
       "<polygon fill=\"#e58139\" fill-opacity=\"0.690196\" stroke=\"#000000\" points=\"889.6667,-408 779.6667,-408 779.6667,-355 889.6667,-355 889.6667,-408\"/>\n",
       "<text text-anchor=\"start\" x=\"799.6667\" y=\"-392.8\" font-family=\"Times,serif\" font-size=\"14.00\" fill=\"#000000\">mse = 0.203</text>\n",
       "<text text-anchor=\"start\" x=\"787.6667\" y=\"-377.8\" font-family=\"Times,serif\" font-size=\"14.00\" fill=\"#000000\">samples = 76325</text>\n",
       "<text text-anchor=\"start\" x=\"793.1667\" y=\"-362.8\" font-family=\"Times,serif\" font-size=\"14.00\" fill=\"#000000\">value = 10.098</text>\n",
       "</g>\n",
       "<!-- 5&#45;&gt;6 -->\n",
       "<g id=\"edge6\" class=\"edge\">\n",
       "<title>5&#45;&gt;6</title>\n",
       "<path fill=\"none\" stroke=\"#000000\" d=\"M670.2394,-352.7587C702.4072,-358.3815 738.8553,-364.7525 769.2466,-370.0648\"/>\n",
       "<polygon fill=\"#000000\" stroke=\"#000000\" points=\"768.8528,-373.5489 779.3062,-371.8232 770.0582,-366.6535 768.8528,-373.5489\"/>\n",
       "</g>\n",
       "<!-- 7 -->\n",
       "<g id=\"node8\" class=\"node\">\n",
       "<title>7</title>\n",
       "<polygon fill=\"#e58139\" stroke=\"#000000\" points=\"893.1667,-337 776.1667,-337 776.1667,-284 893.1667,-284 893.1667,-337\"/>\n",
       "<text text-anchor=\"start\" x=\"799.6667\" y=\"-321.8\" font-family=\"Times,serif\" font-size=\"14.00\" fill=\"#000000\">mse = 0.374</text>\n",
       "<text text-anchor=\"start\" x=\"784.1667\" y=\"-306.8\" font-family=\"Times,serif\" font-size=\"14.00\" fill=\"#000000\">samples = 118921</text>\n",
       "<text text-anchor=\"start\" x=\"793.1667\" y=\"-291.8\" font-family=\"Times,serif\" font-size=\"14.00\" fill=\"#000000\">value = 10.595</text>\n",
       "</g>\n",
       "<!-- 5&#45;&gt;7 -->\n",
       "<g id=\"edge7\" class=\"edge\">\n",
       "<title>5&#45;&gt;7</title>\n",
       "<path fill=\"none\" stroke=\"#000000\" d=\"M670.2394,-329.2153C701.1414,-325.698 735.9933,-321.7311 765.6313,-318.3577\"/>\n",
       "<polygon fill=\"#000000\" stroke=\"#000000\" points=\"766.3422,-321.7995 775.8822,-317.1909 765.5505,-314.8444 766.3422,-321.7995\"/>\n",
       "</g>\n",
       "<!-- 9 -->\n",
       "<g id=\"node10\" class=\"node\">\n",
       "<title>9</title>\n",
       "<polygon fill=\"#e58139\" fill-opacity=\"0.027451\" stroke=\"#000000\" points=\"670.1667,-245.5 507.1667,-245.5 507.1667,-177.5 670.1667,-177.5 670.1667,-245.5\"/>\n",
       "<text text-anchor=\"start\" x=\"515.1667\" y=\"-230.3\" font-family=\"Times,serif\" font-size=\"14.00\" fill=\"#000000\">fiProductClassDesc ≤ 40.5</text>\n",
       "<text text-anchor=\"start\" x=\"553.6667\" y=\"-215.3\" font-family=\"Times,serif\" font-size=\"14.00\" fill=\"#000000\">mse = 0.088</text>\n",
       "<text text-anchor=\"start\" x=\"541.6667\" y=\"-200.3\" font-family=\"Times,serif\" font-size=\"14.00\" fill=\"#000000\">samples = 17328</text>\n",
       "<text text-anchor=\"start\" x=\"550.6667\" y=\"-185.3\" font-family=\"Times,serif\" font-size=\"14.00\" fill=\"#000000\">value = 9.028</text>\n",
       "</g>\n",
       "<!-- 8&#45;&gt;9 -->\n",
       "<g id=\"edge9\" class=\"edge\">\n",
       "<title>8&#45;&gt;9</title>\n",
       "<path fill=\"none\" stroke=\"#000000\" d=\"M399.8363,-211.5C429.1621,-211.5 464.446,-211.5 496.5367,-211.5\"/>\n",
       "<polygon fill=\"#000000\" stroke=\"#000000\" points=\"496.832,-215.0001 506.8319,-211.5 496.8319,-208.0001 496.832,-215.0001\"/>\n",
       "</g>\n",
       "<!-- 12 -->\n",
       "<g id=\"node13\" class=\"node\">\n",
       "<title>12</title>\n",
       "<polygon fill=\"#e58139\" fill-opacity=\"0.219608\" stroke=\"#000000\" points=\"670.1667,-131.5 507.1667,-131.5 507.1667,-63.5 670.1667,-63.5 670.1667,-131.5\"/>\n",
       "<text text-anchor=\"start\" x=\"515.1667\" y=\"-116.3\" font-family=\"Times,serif\" font-size=\"14.00\" fill=\"#000000\">fiProductClassDesc ≤ 40.5</text>\n",
       "<text text-anchor=\"start\" x=\"553.6667\" y=\"-101.3\" font-family=\"Times,serif\" font-size=\"14.00\" fill=\"#000000\">mse = 0.094</text>\n",
       "<text text-anchor=\"start\" x=\"541.6667\" y=\"-86.3\" font-family=\"Times,serif\" font-size=\"14.00\" fill=\"#000000\">samples = 23404</text>\n",
       "<text text-anchor=\"start\" x=\"550.6667\" y=\"-71.3\" font-family=\"Times,serif\" font-size=\"14.00\" fill=\"#000000\">value = 9.334</text>\n",
       "</g>\n",
       "<!-- 8&#45;&gt;12 -->\n",
       "<g id=\"edge12\" class=\"edge\">\n",
       "<title>8&#45;&gt;12</title>\n",
       "<path fill=\"none\" stroke=\"#000000\" d=\"M399.8363,-182.5856C431.2825,-168.4162 469.5796,-151.1598 503.4442,-135.9006\"/>\n",
       "<polygon fill=\"#000000\" stroke=\"#000000\" points=\"505.1895,-138.9532 512.8688,-131.654 502.3137,-132.5712 505.1895,-138.9532\"/>\n",
       "</g>\n",
       "<!-- 10 -->\n",
       "<g id=\"node11\" class=\"node\">\n",
       "<title>10</title>\n",
       "<polygon fill=\"transparent\" stroke=\"#000000\" points=\"889.6667,-266 779.6667,-266 779.6667,-213 889.6667,-213 889.6667,-266\"/>\n",
       "<text text-anchor=\"start\" x=\"799.6667\" y=\"-250.8\" font-family=\"Times,serif\" font-size=\"14.00\" fill=\"#000000\">mse = 0.071</text>\n",
       "<text text-anchor=\"start\" x=\"787.6667\" y=\"-235.8\" font-family=\"Times,serif\" font-size=\"14.00\" fill=\"#000000\">samples = 13018</text>\n",
       "<text text-anchor=\"start\" x=\"796.6667\" y=\"-220.8\" font-family=\"Times,serif\" font-size=\"14.00\" fill=\"#000000\">value = 8.981</text>\n",
       "</g>\n",
       "<!-- 9&#45;&gt;10 -->\n",
       "<g id=\"edge10\" class=\"edge\">\n",
       "<title>9&#45;&gt;10</title>\n",
       "<path fill=\"none\" stroke=\"#000000\" d=\"M670.2394,-220.7847C702.4072,-224.4461 738.8553,-228.5946 769.2466,-232.0538\"/>\n",
       "<polygon fill=\"#000000\" stroke=\"#000000\" points=\"768.9745,-235.5454 779.3062,-233.1988 769.7662,-228.5903 768.9745,-235.5454\"/>\n",
       "</g>\n",
       "<!-- 11 -->\n",
       "<g id=\"node12\" class=\"node\">\n",
       "<title>11</title>\n",
       "<polygon fill=\"#e58139\" fill-opacity=\"0.117647\" stroke=\"#000000\" points=\"886.6667,-195 782.6667,-195 782.6667,-142 886.6667,-142 886.6667,-195\"/>\n",
       "<text text-anchor=\"start\" x=\"799.6667\" y=\"-179.8\" font-family=\"Times,serif\" font-size=\"14.00\" fill=\"#000000\">mse = 0.115</text>\n",
       "<text text-anchor=\"start\" x=\"790.6667\" y=\"-164.8\" font-family=\"Times,serif\" font-size=\"14.00\" fill=\"#000000\">samples = 4310</text>\n",
       "<text text-anchor=\"start\" x=\"796.6667\" y=\"-149.8\" font-family=\"Times,serif\" font-size=\"14.00\" fill=\"#000000\">value = 9.169</text>\n",
       "</g>\n",
       "<!-- 9&#45;&gt;11 -->\n",
       "<g id=\"edge11\" class=\"edge\">\n",
       "<title>9&#45;&gt;11</title>\n",
       "<path fill=\"none\" stroke=\"#000000\" d=\"M670.2394,-197.2413C703.5381,-191.4208 741.4233,-184.7986 772.4291,-179.3789\"/>\n",
       "<polygon fill=\"#000000\" stroke=\"#000000\" points=\"773.4158,-182.7596 782.6638,-177.5899 772.2105,-175.8641 773.4158,-182.7596\"/>\n",
       "</g>\n",
       "<!-- 13 -->\n",
       "<g id=\"node14\" class=\"node\">\n",
       "<title>13</title>\n",
       "<polygon fill=\"#e58139\" fill-opacity=\"0.160784\" stroke=\"#000000\" points=\"889.6667,-124 779.6667,-124 779.6667,-71 889.6667,-71 889.6667,-124\"/>\n",
       "<text text-anchor=\"start\" x=\"799.6667\" y=\"-108.8\" font-family=\"Times,serif\" font-size=\"14.00\" fill=\"#000000\">mse = 0.086</text>\n",
       "<text text-anchor=\"start\" x=\"787.6667\" y=\"-93.8\" font-family=\"Times,serif\" font-size=\"14.00\" fill=\"#000000\">samples = 12554</text>\n",
       "<text text-anchor=\"start\" x=\"796.6667\" y=\"-78.8\" font-family=\"Times,serif\" font-size=\"14.00\" fill=\"#000000\">value = 9.243</text>\n",
       "</g>\n",
       "<!-- 12&#45;&gt;13 -->\n",
       "<g id=\"edge13\" class=\"edge\">\n",
       "<title>12&#45;&gt;13</title>\n",
       "<path fill=\"none\" stroke=\"#000000\" d=\"M670.2394,-97.5C702.4072,-97.5 738.8553,-97.5 769.2466,-97.5\"/>\n",
       "<polygon fill=\"#000000\" stroke=\"#000000\" points=\"769.3062,-101.0001 779.3062,-97.5 769.3061,-94.0001 769.3062,-101.0001\"/>\n",
       "</g>\n",
       "<!-- 14 -->\n",
       "<g id=\"node15\" class=\"node\">\n",
       "<title>14</title>\n",
       "<polygon fill=\"#e58139\" fill-opacity=\"0.282353\" stroke=\"#000000\" points=\"889.6667,-53 779.6667,-53 779.6667,0 889.6667,0 889.6667,-53\"/>\n",
       "<text text-anchor=\"start\" x=\"799.6667\" y=\"-37.8\" font-family=\"Times,serif\" font-size=\"14.00\" fill=\"#000000\">mse = 0.081</text>\n",
       "<text text-anchor=\"start\" x=\"787.6667\" y=\"-22.8\" font-family=\"Times,serif\" font-size=\"14.00\" fill=\"#000000\">samples = 10850</text>\n",
       "<text text-anchor=\"start\" x=\"799.6667\" y=\"-7.8\" font-family=\"Times,serif\" font-size=\"14.00\" fill=\"#000000\">value = 9.44</text>\n",
       "</g>\n",
       "<!-- 12&#45;&gt;14 -->\n",
       "<g id=\"edge14\" class=\"edge\">\n",
       "<title>12&#45;&gt;14</title>\n",
       "<path fill=\"none\" stroke=\"#000000\" d=\"M670.2394,-73.9566C702.5471,-64.6321 739.1723,-54.0614 769.6427,-45.2671\"/>\n",
       "<polygon fill=\"#000000\" stroke=\"#000000\" points=\"770.6689,-48.6138 779.3062,-42.478 768.7278,-41.8884 770.6689,-48.6138\"/>\n",
       "</g>\n",
       "</g>\n",
       "</svg>\n"
      ],
      "text/plain": [
       "<graphviz.files.Source at 0x7f4d86b4d2b0>"
      ]
     },
     "metadata": {},
     "output_type": "display_data"
    }
   ],
   "source": [
    "# Copied from the old version of fastai (fastai.structured) \n",
    "# https://github.com/fastai/fastai/blob/master/old/fastai/structured.py\n",
    "\n",
    "def draw_tree(t, df, size=10, ratio=0.6, precision=0):\n",
    "    s=export_graphviz(t, out_file=None, feature_names=df.columns, filled=True,\n",
    "                      special_characters=True, rotate=True, precision=precision)\n",
    "    display(graphviz.Source(re.sub('Tree {',\n",
    "       f'Tree {{ size={size}; ratio={ratio}', s)))\n",
    "\n",
    "\n",
    "draw_tree(m.estimators_[0], df, precision=3)"
   ]
  },
  {
   "cell_type": "markdown",
   "metadata": {},
   "source": [
    "Beginning at knowing nothing about how to split the tree can produce the best result, we try on each variable for each possible split. For each possible split, we note down the weighted average mse (the sum of two mse\\*samples). Finally, we check which possible split has the smallest weighted average mse (prediction results are most close to the acutal value), and **split on it.** \n",
    "<br><br>\n",
    "In the above tree, splitting starts at checking whether *Coupler_System* of *df* is smaller or equal to 0.5. If we simply predict the result using the mean value of *y*, we get a mean-square-error of 0.478. We want to minimize mse in the following sub-devisions.\n",
    "<br><br>\n",
    "Split stops at either we hit some limits (e.g. max_depth = 3), or one leaf node only have one thing in it, namely the size of 1. Once a point fells in a pure leaf node, we can instantly retrieve its correct prediction result."
   ]
  },
  {
   "cell_type": "code",
   "execution_count": 21,
   "metadata": {},
   "outputs": [
    {
     "name": "stdout",
     "output_type": "stream",
     "text": [
      "[8.58675118495947e-07, 0.35526665442852173, 0.999999999998459, 0.7745984664836758]\n"
     ]
    }
   ],
   "source": [
    "m = RandomForestRegressor(n_estimators=1, bootstrap=False, n_jobs=-1)\n",
    "m.fit(X_train, y_train)\n",
    "print_score(m)"
   ]
  },
  {
   "cell_type": "markdown",
   "metadata": {},
   "source": [
    "Remove the limitaion max_depth = 3, split stops when it gets to pure result sets.\n",
    "\n",
    "The performance will be greatly improve from 0.397 to 0.999. <br><br>\n",
    "\n",
    "However the decision tree is still overfitting with the score in the validation set around 0.78.\n",
    "\n",
    "To solve this problem, we create a forest instead of a single decision tree.\n",
    "<br><br><br>\n",
    "#### Bagging Technique (Create Forest)\n",
    "To create a forest, we use a statistical technique called bagging. Bagging on models can make its performance more robust, and yield confident intervals.\n",
    "<br><br>\n",
    "We create several models, each of them is somewhat predictive. These models will not correlate with each other. Therefore, these models will have profound different insights in the data. The technique **Ensembling** takes the insight of each model to produce a comprehensive result.\n",
    "<br><br>\n",
    "In stead of feed in all data to one decision tree, we just feed in a small part of the data. That tree will fit perfectly on its data, while produce crappy results on the rest. But each tree is more than nothing, because it do actually have a real random subset.\n",
    "<br><br>\n",
    "##### Random Forest - predictive but poorly correlated trees "
   ]
  },
  {
   "cell_type": "code",
   "execution_count": 22,
   "metadata": {},
   "outputs": [
    {
     "name": "stderr",
     "output_type": "stream",
     "text": [
      "/opt/anaconda/lib/python3.7/site-packages/sklearn/ensemble/forest.py:246: FutureWarning: The default value of n_estimators will change from 10 in version 0.20 to 100 in 0.22.\n",
      "  \"10 in version 0.20 to 100 in 0.22.\", FutureWarning)\n"
     ]
    },
    {
     "name": "stdout",
     "output_type": "stream",
     "text": [
      "[0.24183901179394154, 0.2794719162435732, 0.8777672605436322, 0.8605160236759455]\n"
     ]
    }
   ],
   "source": [
    "# By defualt, sklearn constructs ten trees\n",
    "m = RandomForestRegressor(n_jobs=-1)\n",
    "m.fit(X_train, y_train)\n",
    "print_score(m)"
   ]
  },
  {
   "cell_type": "code",
   "execution_count": 23,
   "metadata": {},
   "outputs": [
    {
     "data": {
      "text/plain": [
       "(array([9.350102, 9.159047, 9.350102, 9.159047, 9.169518, 9.259131, 9.21034 , 9.047821, 9.903488, 8.987197]),\n",
       " 9.25957938851342,\n",
       " 9.104979856318357)"
      ]
     },
     "execution_count": 23,
     "metadata": {},
     "output_type": "execute_result"
    }
   ],
   "source": [
    "# Decision trees are stored in m.estimators_\n",
    "# Each tree predict a result for elements in the validaiton set\n",
    "preds = np.stack([t.predict(X_valid) for t in m.estimators_])\n",
    "\n",
    "# Average prediction results of all trees, compare to the actual value\n",
    "preds[:, 0], np.mean(preds[:, 0]), y_valid[0]"
   ]
  },
  {
   "cell_type": "markdown",
   "metadata": {},
   "source": [
    "<br><br>\n",
    "Use the standard deviation to get the confidence of the prediction.\n",
    "<br><br>\n",
    "In a particular leaf node with several samples in it, if the standard deviation is low, we will have the confidence to say that these samples have great similarity. "
   ]
  },
  {
   "cell_type": "code",
   "execution_count": 25,
   "metadata": {},
   "outputs": [
    {
     "data": {
      "text/plain": [
       "(9.25957938851342, 0.24099572068573766)"
      ]
     },
     "execution_count": 25,
     "metadata": {},
     "output_type": "execute_result"
    }
   ],
   "source": [
    "def get_preds(t): \n",
    "    return t.predict(X_valid)\n",
    "\n",
    "\n",
    "def parallel_trees(m, fn, n_jobs=8):\n",
    "    return list(ProcessPoolExecutor(n_jobs).map(fn, m.estimators_))\n",
    "\n",
    "\n",
    "''' In the above cell, we iterate through all trees in the estimators set linearly.\n",
    "To reduce time used, we could run in parallel by calling parallel_trees().\n",
    "'''\n",
    "preds = np.stack(parallel_trees(m, get_preds))\n",
    "np.mean(preds[:, 0]), np.std(preds[:, 0])"
   ]
  },
  {
   "cell_type": "code",
   "execution_count": 26,
   "metadata": {},
   "outputs": [
    {
     "data": {
      "image/png": "[encoded data removed]",
      "text/plain": [
       "<Figure size 432x288 with 1 Axes>"
      ]
     },
     "metadata": {
      "needs_background": "light"
     },
     "output_type": "display_data"
    }
   ],
   "source": [
    "x = raw_valid.copy()\n",
    "x['pred_std'] = np.std(preds, axis=0)\n",
    "x['pred'] = np.mean(preds, axis=0)\n",
    "\n",
    "# Enclosure is an important predictor\n",
    "x.Enclosure.value_counts().plot.barh();"
   ]
  },
  {
   "cell_type": "code",
   "execution_count": 27,
   "metadata": {},
   "outputs": [
    {
     "data": {
      "text/html": [
       "<div>\n",
       "<style scoped>\n",
       "    .dataframe tbody tr th:only-of-type {\n",
       "        vertical-align: middle;\n",
       "    }\n",
       "\n",
       "    .dataframe tbody tr th {\n",
       "        vertical-align: top;\n",
       "    }\n",
       "\n",
       "    .dataframe thead th {\n",
       "        text-align: right;\n",
       "    }\n",
       "</style>\n",
       "<table border=\"1\" class=\"dataframe\">\n",
       "  <thead>\n",
       "    <tr style=\"text-align: right;\">\n",
       "      <th></th>\n",
       "      <th>Enclosure</th>\n",
       "      <th>SalePrice</th>\n",
       "      <th>pred</th>\n",
       "      <th>pred_std</th>\n",
       "    </tr>\n",
       "  </thead>\n",
       "  <tbody>\n",
       "    <tr>\n",
       "      <th>0</th>\n",
       "      <td>EROPS</td>\n",
       "      <td>9.849178</td>\n",
       "      <td>9.839218</td>\n",
       "      <td>0.294614</td>\n",
       "    </tr>\n",
       "    <tr>\n",
       "      <th>1</th>\n",
       "      <td>EROPS AC</td>\n",
       "      <td>NaN</td>\n",
       "      <td>NaN</td>\n",
       "      <td>NaN</td>\n",
       "    </tr>\n",
       "    <tr>\n",
       "      <th>2</th>\n",
       "      <td>EROPS w AC</td>\n",
       "      <td>10.623971</td>\n",
       "      <td>10.564894</td>\n",
       "      <td>0.295393</td>\n",
       "    </tr>\n",
       "    <tr>\n",
       "      <th>3</th>\n",
       "      <td>NO ROPS</td>\n",
       "      <td>NaN</td>\n",
       "      <td>NaN</td>\n",
       "      <td>NaN</td>\n",
       "    </tr>\n",
       "    <tr>\n",
       "      <th>4</th>\n",
       "      <td>None or Unspecified</td>\n",
       "      <td>NaN</td>\n",
       "      <td>NaN</td>\n",
       "      <td>NaN</td>\n",
       "    </tr>\n",
       "    <tr>\n",
       "      <th>5</th>\n",
       "      <td>OROPS</td>\n",
       "      <td>9.682064</td>\n",
       "      <td>9.662862</td>\n",
       "      <td>0.255899</td>\n",
       "    </tr>\n",
       "  </tbody>\n",
       "</table>\n",
       "</div>"
      ],
      "text/plain": [
       "             Enclosure  SalePrice       pred  pred_std\n",
       "0                EROPS   9.849178   9.839218  0.294614\n",
       "1             EROPS AC        NaN        NaN       NaN\n",
       "2           EROPS w AC  10.623971  10.564894  0.295393\n",
       "3              NO ROPS        NaN        NaN       NaN\n",
       "4  None or Unspecified        NaN        NaN       NaN\n",
       "5                OROPS   9.682064   9.662862  0.255899"
      ]
     },
     "execution_count": 27,
     "metadata": {},
     "output_type": "execute_result"
    }
   ],
   "source": [
    "flds = ['Enclosure', 'SalePrice', 'pred', 'pred_std']\n",
    "enc_summ = x[flds].groupby('Enclosure', as_index=False).mean()\n",
    "enc_summ"
   ]
  },
  {
   "cell_type": "code",
   "execution_count": 28,
   "metadata": {},
   "outputs": [
    {
     "data": {
      "text/plain": [
       "(10, 12000)"
      ]
     },
     "execution_count": 28,
     "metadata": {},
     "output_type": "execute_result"
    }
   ],
   "source": [
    "preds.shape"
   ]
  },
  {
   "cell_type": "code",
   "execution_count": 29,
   "metadata": {},
   "outputs": [
    {
     "data": {
      "text/plain": [
       "[<matplotlib.lines.Line2D at 0x7f4d09d36eb8>]"
      ]
     },
     "execution_count": 29,
     "metadata": {},
     "output_type": "execute_result"
    },
    {
     "data": {
      "image/png": "[encoded data removed]",
      "text/plain": [
       "<Figure size 432x288 with 1 Axes>"
      ]
     },
     "metadata": {
      "needs_background": "light"
     },
     "output_type": "display_data"
    }
   ],
   "source": [
    "''' For tree number i in the forest (ten trees all together),\n",
    "    we check the first i rows ([:i+1]) of the prediction results.\n",
    "    \n",
    "    We feed the prediction results and the acutal value y to R-Squared evaluation model,\n",
    "    and find that the R-Squared value is increasing when more numbers are added to the formula.\n",
    "    \n",
    "    In this way, bagging generalizes better results, as shown in the graph below.\n",
    "    \n",
    "    At some points, the increasing of R-Squared value will stop. No need to add more estimators.\n",
    "'''\n",
    "\n",
    "plt.plot([metrics.r2_score(y_valid, np.mean(preds[:i+1], axis=0)) for i in range(10)])"
   ]
  },
  {
   "cell_type": "markdown",
   "metadata": {},
   "source": [
    "#### Out-Of-Bag Problem\n",
    "\n",
    "When the data set is not very large, we need to use validation set, but we also do not want to waste data to train our model. \n",
    "<br> <br> \n",
    "In this case, we use different validation set for different trees. Since for each tree, only a random subset is picked for training, the rest will be used as the validation set. \n",
    "<br> <br> \n",
    "If we do not have out-of-bag problem, normally as what we do above, we will separate the validation set beforehand, and every tree will use the same validation set. \n",
    "<br> <br> \n",
    "To enable out-of-bag, set parameter oob_score=True."
   ]
  },
  {
   "cell_type": "code",
   "execution_count": 30,
   "metadata": {},
   "outputs": [
    {
     "name": "stdout",
     "output_type": "stream",
     "text": [
      "[0.2316886711497545, 0.2621781005520452, 0.8878125120976921, 0.877244545263313, 0.8787616917836224]\n"
     ]
    }
   ],
   "source": [
    "m = RandomForestRegressor(n_estimators=40, n_jobs=-1, min_samples_leaf=3, oob_score=True)\n",
    "m.fit(X_train, y_train)\n",
    "print_score(m)"
   ]
  },
  {
   "cell_type": "code",
   "execution_count": 31,
   "metadata": {},
   "outputs": [
    {
     "name": "stdout",
     "output_type": "stream",
     "text": [
      "[0.23324320997787457, 0.26323941903032594, 0.8863019947144304, 0.876248685353247, 0.877770695759565]\n"
     ]
    }
   ],
   "source": [
    "# Max_feature is the number of features to consider each time to determine which feature to split in a node\n",
    "# Max_feature is used to avoid overfitting\n",
    "m = RandomForestRegressor(n_estimators=40, n_jobs=-1, max_features=0.5,min_samples_leaf=3, oob_score=True)\n",
    "m.fit(X_train, y_train)\n",
    "print_score(m)"
   ]
  },
  {
   "cell_type": "markdown",
   "metadata": {},
   "source": [
    "<br><br> \n",
    "#### Feature Importance\n",
    "<br>\n",
    "We should not only know that the model can make accurate predictions, we also want to know how it is making predictions. The most important way to see this is with *Feature Importance*.\n",
    "<br><br>\n",
    "*Feature importance* tells us that in this random forest, which columns matters. Which features contribute greatly in prediction."
   ]
  },
  {
   "cell_type": "code",
   "execution_count": 34,
   "metadata": {},
   "outputs": [
    {
     "data": {
      "text/html": [
       "<div>\n",
       "<style scoped>\n",
       "    .dataframe tbody tr th:only-of-type {\n",
       "        vertical-align: middle;\n",
       "    }\n",
       "\n",
       "    .dataframe tbody tr th {\n",
       "        vertical-align: top;\n",
       "    }\n",
       "\n",
       "    .dataframe thead th {\n",
       "        text-align: right;\n",
       "    }\n",
       "</style>\n",
       "<table border=\"1\" class=\"dataframe\">\n",
       "  <thead>\n",
       "    <tr style=\"text-align: right;\">\n",
       "      <th></th>\n",
       "      <th>cols</th>\n",
       "      <th>imp</th>\n",
       "    </tr>\n",
       "  </thead>\n",
       "  <tbody>\n",
       "    <tr>\n",
       "      <th>5</th>\n",
       "      <td>YearMade</td>\n",
       "      <td>0.173446</td>\n",
       "    </tr>\n",
       "    <tr>\n",
       "      <th>13</th>\n",
       "      <td>ProductSize</td>\n",
       "      <td>0.100971</td>\n",
       "    </tr>\n",
       "    <tr>\n",
       "      <th>14</th>\n",
       "      <td>fiProductClassDesc</td>\n",
       "      <td>0.080475</td>\n",
       "    </tr>\n",
       "    <tr>\n",
       "      <th>37</th>\n",
       "      <td>Coupler_System</td>\n",
       "      <td>0.077182</td>\n",
       "    </tr>\n",
       "    <tr>\n",
       "      <th>39</th>\n",
       "      <td>Hydraulics_Flow</td>\n",
       "      <td>0.055055</td>\n",
       "    </tr>\n",
       "    <tr>\n",
       "      <th>2</th>\n",
       "      <td>ModelID</td>\n",
       "      <td>0.053651</td>\n",
       "    </tr>\n",
       "    <tr>\n",
       "      <th>63</th>\n",
       "      <td>saleElapsed</td>\n",
       "      <td>0.047798</td>\n",
       "    </tr>\n",
       "    <tr>\n",
       "      <th>38</th>\n",
       "      <td>Grouser_Tracks</td>\n",
       "      <td>0.045901</td>\n",
       "    </tr>\n",
       "    <tr>\n",
       "      <th>19</th>\n",
       "      <td>Enclosure</td>\n",
       "      <td>0.042632</td>\n",
       "    </tr>\n",
       "    <tr>\n",
       "      <th>10</th>\n",
       "      <td>fiSecondaryDesc</td>\n",
       "      <td>0.040736</td>\n",
       "    </tr>\n",
       "  </tbody>\n",
       "</table>\n",
       "</div>"
      ],
      "text/plain": [
       "                  cols       imp\n",
       "5             YearMade  0.173446\n",
       "13         ProductSize  0.100971\n",
       "14  fiProductClassDesc  0.080475\n",
       "37      Coupler_System  0.077182\n",
       "39     Hydraulics_Flow  0.055055\n",
       "2              ModelID  0.053651\n",
       "63         saleElapsed  0.047798\n",
       "38      Grouser_Tracks  0.045901\n",
       "19           Enclosure  0.042632\n",
       "10     fiSecondaryDesc  0.040736"
      ]
     },
     "execution_count": 34,
     "metadata": {},
     "output_type": "execute_result"
    }
   ],
   "source": [
    "def rf_feat_importance(m, df):\n",
    "    return pd.DataFrame({'cols':df.columns, 'imp':m.feature_importances_}\n",
    "                       ).sort_values('imp', ascending=False)\n",
    "\n",
    "\n",
    "fi = rf_feat_importance(m, df)\n",
    "fi[:10]"
   ]
  },
  {
   "cell_type": "code",
   "execution_count": 36,
   "metadata": {},
   "outputs": [
    {
     "data": {
      "text/plain": [
       "<matplotlib.axes._subplots.AxesSubplot at 0x7f4d0996b2b0>"
      ]
     },
     "execution_count": 36,
     "metadata": {},
     "output_type": "execute_result"
    },
    {
     "data": {
      "image/png": "[encoded data removed]",
      "text/plain": [
       "<Figure size 720x432 with 1 Axes>"
      ]
     },
     "metadata": {
      "needs_background": "light"
     },
     "output_type": "display_data"
    }
   ],
   "source": [
    "fi.plot('cols', 'imp', figsize=(10, 6), legend=False)"
   ]
  },
  {
   "cell_type": "code",
   "execution_count": 37,
   "metadata": {},
   "outputs": [
    {
     "data": {
      "text/plain": [
       "<matplotlib.axes._subplots.AxesSubplot at 0x7f4d08695710>"
      ]
     },
     "execution_count": 37,
     "metadata": {},
     "output_type": "execute_result"
    },
    {
     "data": {
      "image/png": "[encoded data removed]",
      "text/plain": [
       "<Figure size 864x504 with 1 Axes>"
      ]
     },
     "metadata": {
      "needs_background": "light"
     },
     "output_type": "display_data"
    }
   ],
   "source": [
    "def plot_fi(fi):\n",
    "    return fi.plot('cols', 'imp', 'barh', figsize=(12, 7), legend=False)\n",
    "\n",
    "plot_fi(fi[:30])"
   ]
  },
  {
   "cell_type": "code",
   "execution_count": 39,
   "metadata": {},
   "outputs": [
    {
     "data": {
      "text/plain": [
       "25"
      ]
     },
     "execution_count": 39,
     "metadata": {},
     "output_type": "execute_result"
    }
   ],
   "source": [
    "# Create a dataframe with the most important severl columns (imp > 0.005) and train the model\n",
    "# Remove some extractions, redundant columns usually have some negative results\n",
    "\n",
    "to_keep = fi[fi.imp>0.005].cols\n",
    "len(to_keep)"
   ]
  },
  {
   "cell_type": "code",
   "execution_count": 40,
   "metadata": {},
   "outputs": [],
   "source": [
    "df_keep = df[to_keep].copy()\n",
    "X_train, X_valid = split_vals(df_keep, n_trn)"
   ]
  },
  {
   "cell_type": "code",
   "execution_count": 41,
   "metadata": {},
   "outputs": [
    {
     "name": "stdout",
     "output_type": "stream",
     "text": [
      "[0.23338820554282985, 0.26164551111765033, 0.8861605901206653, 0.8777427703497551, 0.877899909221128]\n"
     ]
    }
   ],
   "source": [
    "m = RandomForestRegressor(n_estimators=40, min_samples_leaf=3, max_features=0.5, \n",
    "                          n_jobs=-1, oob_score=True)\n",
    "m.fit(X_train, y_train)\n",
    "print_score(m)"
   ]
  },
  {
   "cell_type": "code",
   "execution_count": 43,
   "metadata": {},
   "outputs": [
    {
     "data": {
      "text/plain": [
       "<matplotlib.axes._subplots.AxesSubplot at 0x7f4d09595630>"
      ]
     },
     "execution_count": 43,
     "metadata": {},
     "output_type": "execute_result"
    },
    {
     "data": {
      "image/png": "[encoded data removed]",
      "text/plain": [
       "<Figure size 864x504 with 1 Axes>"
      ]
     },
     "metadata": {
      "needs_background": "light"
     },
     "output_type": "display_data"
    }
   ],
   "source": [
    "# Remove many inter-related columns makes the feature importance more clearer\n",
    "\n",
    "fi = rf_feat_importance(m, df_keep)\n",
    "plot_fi(fi[:30])"
   ]
  }
 ],
 "metadata": {
  "kernelspec": {
   "display_name": "Python 3",
   "language": "python",
   "name": "python3"
  },
  "language_info": {
   "codemirror_mode": {
    "name": "ipython",
    "version": 3
   },
   "file_extension": ".py",
   "mimetype": "text/x-python",
   "name": "python",
   "nbconvert_exporter": "python",
   "pygments_lexer": "ipython3",
   "version": "3.7.3"
  }
 },
 "nbformat": 4,
 "nbformat_minor": 2
}
